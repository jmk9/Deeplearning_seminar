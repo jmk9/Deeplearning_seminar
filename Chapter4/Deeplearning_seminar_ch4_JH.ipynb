{
  "nbformat": 4,
  "nbformat_minor": 0,
  "metadata": {
    "colab": {
      "name": "Deeplearning_seminar_ch4_JH.ipynb",
      "provenance": [],
      "toc_visible": true
    },
    "kernelspec": {
      "name": "python3",
      "display_name": "Python 3"
    }
  },
  "cells": [
    {
      "cell_type": "markdown",
      "metadata": {
        "id": "9waHu0FX-f9r",
        "colab_type": "text"
      },
      "source": [
        "\n",
        "\n",
        "> 미분계수 : 두 번째 이야기\n",
        "\n",
        "미분계수는\n",
        "1. 한 변수를 움직일 때 함수 내에서 다른 변수는 어떻게 변하는지\n",
        "2. 미분계수가 직선이나 곡선 위에 있는 한 점의 기울기\n",
        "\n",
        "--> 함수의 기울기 = '한 변수를 수정할 때 다른 변수가 얼마나 바뀌는가'\n",
        "\n",
        "\n"
      ]
    },
    {
      "cell_type": "code",
      "metadata": {
        "id": "9LhYrxhrY9qs",
        "colab_type": "code",
        "colab": {
          "base_uri": "https://localhost:8080/",
          "height": 85
        },
        "outputId": "b35d36d3-e6bc-4d79-f22b-8475f5a28cfd"
      },
      "source": [
        "weight = 0.0\n",
        "goal_pred = 0.8\n",
        "input = 1.1\n",
        "\n",
        "for iteration in range(4):\n",
        "    pred = input * weight\n",
        "    error = (pred - goal_pred) ** 2\n",
        "    delta = pred - goal_pred\n",
        "    weight_delta = input * delta            ## 미분계수(가중치의 변화를 고려할 때 오차는 얼마나 빨리 움직이는가)\n",
        "    weight = weight - weight_delta\n",
        "    print(\"Error:\" + str(error) + \" Prediction:\" + str(pred))"
      ],
      "execution_count": 3,
      "outputs": [
        {
          "output_type": "stream",
          "text": [
            "Error:0.6400000000000001 Prediction:0.0\n",
            "Error:0.02822400000000005 Prediction:0.9680000000000002\n",
            "Error:0.0012446784000000064 Prediction:0.76472\n",
            "Error:5.4890317439999896e-05 Prediction:0.8074088\n"
          ],
          "name": "stdout"
        }
      ]
    },
    {
      "cell_type": "markdown",
      "metadata": {
        "id": "eX6_dcg6-Q4k",
        "colab_type": "text"
      },
      "source": [
        "### Breaking Gradient Descent"
      ]
    },
    {
      "cell_type": "code",
      "metadata": {
        "id": "hyU9Lbvr99dv",
        "colab_type": "code",
        "colab": {
          "base_uri": "https://localhost:8080/",
          "height": 357
        },
        "outputId": "66d37e14-b592-4cc2-f517-5eb2e6676e18"
      },
      "source": [
        "weight = 0.5\n",
        "goal_pred = 0.8\n",
        "input = 0.5\n",
        "\n",
        "for iteration in range(20):\n",
        "    pred = input * weight\n",
        "    error = (pred - goal_pred) ** 2\n",
        "    delta = pred - goal_pred\n",
        "    weight_delta = input * delta\n",
        "    weight = weight - weight_delta\n",
        "    print(\"Error:\" + str(error) + \" Prediction:\" + str(pred))"
      ],
      "execution_count": 4,
      "outputs": [
        {
          "output_type": "stream",
          "text": [
            "Error:0.30250000000000005 Prediction:0.25\n",
            "Error:0.17015625000000004 Prediction:0.3875\n",
            "Error:0.095712890625 Prediction:0.49062500000000003\n",
            "Error:0.05383850097656251 Prediction:0.56796875\n",
            "Error:0.03028415679931642 Prediction:0.6259765625\n",
            "Error:0.0170348381996155 Prediction:0.669482421875\n",
            "Error:0.00958209648728372 Prediction:0.70211181640625\n",
            "Error:0.005389929274097089 Prediction:0.7265838623046875\n",
            "Error:0.0030318352166796153 Prediction:0.7449378967285156\n",
            "Error:0.0017054073093822882 Prediction:0.7587034225463867\n",
            "Error:0.0009592916115275371 Prediction:0.76902756690979\n",
            "Error:0.0005396015314842384 Prediction:0.7767706751823426\n",
            "Error:0.000303525861459885 Prediction:0.7825780063867569\n",
            "Error:0.00017073329707118678 Prediction:0.7869335047900676\n",
            "Error:9.603747960254256e-05 Prediction:0.7902001285925507\n",
            "Error:5.402108227642978e-05 Prediction:0.7926500964444131\n",
            "Error:3.038685878049206e-05 Prediction:0.7944875723333098\n",
            "Error:1.7092608064027242e-05 Prediction:0.7958656792499823\n",
            "Error:9.614592036015323e-06 Prediction:0.7968992594374867\n",
            "Error:5.408208020258491e-06 Prediction:0.7976744445781151\n"
          ],
          "name": "stdout"
        }
      ]
    },
    {
      "cell_type": "markdown",
      "metadata": {
        "id": "pub-nMMGcw7g",
        "colab_type": "text"
      },
      "source": [
        "# weight의 overshooting\n",
        "단계마다 음수와 양수를 왔다 갔다 하면서 정답으로 부터 점점 멀어졌음."
      ]
    },
    {
      "cell_type": "code",
      "metadata": {
        "id": "2T392dyD-Z_d",
        "colab_type": "code",
        "colab": {
          "base_uri": "https://localhost:8080/",
          "height": 357
        },
        "outputId": "abd7262b-b469-4318-95bd-3b2ad66c2bf6"
      },
      "source": [
        "# Now let's break it:\n",
        "\n",
        "weight = 0.5\n",
        "goal_pred = 0.8\n",
        "input = 2         ##input = 0.5 --> 2\n",
        "\n",
        "for iteration in range(20):\n",
        "    pred = input * weight\n",
        "    error = (pred - goal_pred) ** 2\n",
        "    delta = pred - goal_pred\n",
        "    weight_delta = input * delta\n",
        "    weight = weight - weight_delta\n",
        "    print(\"Error:\" + str(error) + \" Prediction:\" + str(pred))"
      ],
      "execution_count": 2,
      "outputs": [
        {
          "output_type": "stream",
          "text": [
            "Error:0.03999999999999998 Prediction:1.0\n",
            "Error:0.3599999999999998 Prediction:0.20000000000000018\n",
            "Error:3.2399999999999984 Prediction:2.5999999999999996\n",
            "Error:29.159999999999986 Prediction:-4.599999999999999\n",
            "Error:262.4399999999999 Prediction:16.999999999999996\n",
            "Error:2361.959999999998 Prediction:-47.79999999999998\n",
            "Error:21257.639999999978 Prediction:146.59999999999994\n",
            "Error:191318.75999999983 Prediction:-436.5999999999998\n",
            "Error:1721868.839999999 Prediction:1312.9999999999995\n",
            "Error:15496819.559999991 Prediction:-3935.799999999999\n",
            "Error:139471376.03999993 Prediction:11810.599999999997\n",
            "Error:1255242384.3599997 Prediction:-35428.59999999999\n",
            "Error:11297181459.239996 Prediction:106288.99999999999\n",
            "Error:101674633133.15994 Prediction:-318863.79999999993\n",
            "Error:915071698198.4395 Prediction:956594.5999999997\n",
            "Error:8235645283785.954 Prediction:-2869780.599999999\n",
            "Error:74120807554073.56 Prediction:8609344.999999996\n",
            "Error:667087267986662.1 Prediction:-25828031.799999986\n",
            "Error:6003785411879960.0 Prediction:77484098.59999996\n",
            "Error:5.403406870691965e+16 Prediction:-232452292.5999999\n"
          ],
          "name": "stdout"
        }
      ]
    },
    {
      "cell_type": "markdown",
      "metadata": {
        "id": "CsGqjraqDvZf",
        "colab_type": "text"
      },
      "source": [
        "# 알파를 소개합니다.\n",
        ": weight를 갱신했을 때 overcorreting 되지 않도록 하는 가장 쉬운 방법이다.\n",
        "\n",
        "overcorrecting으로 인한 divergence(overshooting)에는 alpha라고 하는 0과 1 사이의 실수가 사용되어 weight 갱신 값을 작게 만들어 해결할 수 있다.\n",
        "\n",
        "** 주의 **\n",
        "- 알파는 input이 크다는 핵심 사안에 대해서는 아무런 효과를 미치지 못함.\n",
        "- 그리 크지 않은 input에 대한 weight 갱신값을 감소시키기도 함.\n"
      ]
    },
    {
      "cell_type": "code",
      "metadata": {
        "id": "qxrHiF9D-cE7",
        "colab_type": "code",
        "colab": {
          "base_uri": "https://localhost:8080/",
          "height": 357
        },
        "outputId": "629e9055-e97f-4b9e-f5a2-22024a4894e6"
      },
      "source": [
        "weight = 0.5\n",
        "goal_pred = 0.8\n",
        "input = 2\n",
        "alpha = 0.01     ##가중치 조정\n",
        "\n",
        "for iteration in range(20):\n",
        "    pred  = input * weight\n",
        "    error = (pred - goal_pred) ** 2\n",
        "    derivative = input * (pred - goal_pred)\n",
        "    weight = weight - (alpha * derivative)\n",
        "    \n",
        "    print(\"Error:\" + str(error) + \" Prediction:\" + str(pred))"
      ],
      "execution_count": 7,
      "outputs": [
        {
          "output_type": "stream",
          "text": [
            "Error:0.03999999999999998 Prediction:1.0\n",
            "Error:0.03686399999999998 Prediction:0.992\n",
            "Error:0.03397386239999997 Prediction:0.98432\n",
            "Error:0.03131031158783999 Prediction:0.9769472\n",
            "Error:0.028855583159353344 Prediction:0.969869312\n",
            "Error:0.026593305439660025 Prediction:0.96307453952\n",
            "Error:0.024508390293190678 Prediction:0.9565515579392\n",
            "Error:0.022586932494204532 Prediction:0.950289495621632\n",
            "Error:0.020816116986658882 Prediction:0.9442779157967667\n",
            "Error:0.01918413341490482 Prediction:0.938506799164896\n",
            "Error:0.017680097355176293 Prediction:0.9329665271983002\n",
            "Error:0.016293977722530474 Prediction:0.9276478661103682\n",
            "Error:0.015016529869084099 Prediction:0.9225419514659535\n",
            "Error:0.013839233927347898 Prediction:0.9176402734073154\n",
            "Error:0.01275423798744382 Prediction:0.9129346624710227\n",
            "Error:0.01175430572922822 Prediction:0.9084172759721818\n",
            "Error:0.010832768160056737 Prediction:0.9040805849332946\n",
            "Error:0.00998347913630829 Prediction:0.8999173615359628\n",
            "Error:0.009200774372021728 Prediction:0.8959206670745243\n",
            "Error:0.008479433661255215 Prediction:0.8920838403915433\n"
          ],
          "name": "stdout"
        }
      ]
    },
    {
      "cell_type": "code",
      "metadata": {
        "id": "toF8_HPn-dq6",
        "colab_type": "code",
        "colab": {}
      },
      "source": [
        ""
      ],
      "execution_count": 0,
      "outputs": []
    }
  ]
}