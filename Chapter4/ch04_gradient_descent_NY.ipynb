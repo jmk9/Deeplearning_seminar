{
 "cells": [
  {
   "cell_type": "markdown",
   "metadata": {},
   "source": [
    "# CHAPTER 04. Gradient Descent (경사하강법)\n",
    "---------------------------"
   ]
  },
  {
   "cell_type": "markdown",
   "metadata": {},
   "source": [
    "## 1. Gradient Descent 란?"
   ]
  },
  {
   "cell_type": "markdown",
   "metadata": {},
   "source": [
    "* 오차(error, 또는 손실(loss)) 값을 최소화 시키는 방법이다.\n",
    "* 기울기(미분계수)가 최소가 되는 점의 weight를 찾는다.\n",
    "* 하나의 학습 예제(입력 -> 참)쌍을 통해 weight 갱신"
   ]
  },
  {
   "cell_type": "markdown",
   "metadata": {},
   "source": [
    ">### 1. 신경망"
   ]
  },
  {
   "cell_type": "code",
   "execution_count": 1,
   "metadata": {},
   "outputs": [],
   "source": [
    "weight = 0.1 # 임의로 첫번째 weight 값 설정\n",
    "alpha = 0.01 \n",
    "\n",
    "def neural_network(input_data, weight):\n",
    "    prediction = input_data * weight\n",
    "    \n",
    "    return prediction"
   ]
  },
  {
   "cell_type": "markdown",
   "metadata": {},
   "source": [
    ">### 2. 예측: 예측을 수행하고 오차 평가하기"
   ]
  },
  {
   "cell_type": "code",
   "execution_count": 2,
   "metadata": {},
   "outputs": [],
   "source": [
    "number_of_toes = [8.5]\n",
    "win_or_lose_binary = [1] # win=1, lose=0\n",
    "input_data = number_of_toes[0]\n",
    "goal_pred = win_or_lose_binary[0]\n",
    "pred = neural_network(input_data, weight)\n",
    "\n",
    "error = (pred - goal_pred) ** 2\n",
    "\n",
    "# 여러가지 오차 측정 방법 중 평균제곱오차(Mean Squared Error, MSE)방법을 사용\n",
    "# 순오차 (pred - goal_pred) 를 제곱해 오직 양수 오차만 사용\n",
    "# 양수 오차만을 사용하는 이유: 평균오차에 잘못된 영향을 미치지 않도록"
   ]
  },
  {
   "cell_type": "markdown",
   "metadata": {},
   "source": [
    ">### 3. 비교: node delta 를 계산하고 그 결과를 출력 노드에 놓기\n",
    "* delta: '예측이 얼마나 목표 예측에서 벗어났는가'를 나타내는 척도   \n",
    "**(pred - goal pred)**"
   ]
  },
  {
   "cell_type": "code",
   "execution_count": 3,
   "metadata": {},
   "outputs": [],
   "source": [
    "delta = pred - goal_pred"
   ]
  },
  {
   "cell_type": "markdown",
   "metadata": {},
   "source": [
    ">### 4. 학습: 가중치 델타(weight_delta)를 계산해 가중치에 그 결과 내놓기\n",
    "* weight_delta: 신경망의 예측이 빗나가게 하는 가중치의 크기를 재는 척도"
   ]
  },
  {
   "cell_type": "code",
   "execution_count": 4,
   "metadata": {},
   "outputs": [],
   "source": [
    "weight_delta = delta * input_data"
   ]
  },
  {
   "cell_type": "markdown",
   "metadata": {},
   "source": [
    ">### 5. 학습: 가중치 갱신"
   ]
  },
  {
   "cell_type": "code",
   "execution_count": 5,
   "metadata": {},
   "outputs": [],
   "source": [
    "alpha = 0.01 # 신경망의 학습속도를 조절\n",
    "# 숫자가 클수록 가중치 갱신이 급격하게된다. 그러면 우리가 찾아야할 오차가 최소가 되는 곳을 지나칠 가능성이 높다 ;; 오버슈팅(overshooting)<->undershooting\n",
    "\n",
    "weight -= weight_delta * alpha\n"
   ]
  },
  {
   "cell_type": "markdown",
   "metadata": {},
   "source": [
    "## 2. 학습 = 오차 줄이기 !"
   ]
  },
  {
   "cell_type": "code",
   "execution_count": 6,
   "metadata": {},
   "outputs": [],
   "source": [
    "weight, goal_pred, input_data = 0.0, 0.8, 0.5"
   ]
  },
  {
   "cell_type": "code",
   "execution_count": 11,
   "metadata": {},
   "outputs": [
    {
     "name": "stdout",
     "output_type": "stream",
     "text": [
      "Error: 0.6400000000000001, Prediction: 0.0\n",
      "Error: 0.3600000000000001, Prediction: 0.2\n",
      "Error: 0.2025, Prediction: 0.35000000000000003\n",
      "Error: 0.11390625000000001, Prediction: 0.4625\n"
     ]
    }
   ],
   "source": [
    "for i in range(4):\n",
    "    pred = input_data * weight\n",
    "    error = (pred - goal_pred) ** 2\n",
    "    delta = pred - goal_pred\n",
    "    weight_delta = delta * input_data\n",
    "    weight -= weight_delta\n",
    "    print(\"Error: \" + str(error) + \", Prediction: \" + str(pred))"
   ]
  },
  {
   "cell_type": "markdown",
   "metadata": {},
   "source": [
    "* pred와 error의 결합: error = ((input_data * weight) - goal_pred) ** 2 로도 사용 가능 "
   ]
  },
  {
   "cell_type": "markdown",
   "metadata": {},
   "source": [
    "## 3. 학습의 여러 단계를 관찰해보세요\n",
    "* ### 결국 그릇의 바닥과 만나게 될까요?"
   ]
  },
  {
   "cell_type": "code",
   "execution_count": 1,
   "metadata": {},
   "outputs": [],
   "source": [
    "weight, goal_pred, input_data = 0.0, 0.8, 1.1"
   ]
  },
  {
   "cell_type": "code",
   "execution_count": 2,
   "metadata": {},
   "outputs": [
    {
     "name": "stdout",
     "output_type": "stream",
     "text": [
      "--------------------------------\n",
      "Weight: 0.0\n",
      "Error: 0.6400000000000001, Prediction: 0.0\n",
      "Delta: -0.8, Weight Delta: -0.8800000000000001\n",
      "--------------------------------\n",
      "Weight: 0.8800000000000001\n",
      "Error: 0.02822400000000005, Prediction: 0.9680000000000002\n",
      "Delta: 0.16800000000000015, Weight Delta: 0.1848000000000002\n",
      "--------------------------------\n",
      "Weight: 0.6951999999999999\n",
      "Error: 0.0012446784000000064, Prediction: 0.76472\n",
      "Delta: -0.03528000000000009, Weight Delta: -0.0388080000000001\n",
      "--------------------------------\n",
      "Weight: 0.734008\n",
      "Error: 5.4890317439999896e-05, Prediction: 0.8074088\n",
      "Delta: 0.007408799999999993, Weight Delta: 0.008149679999999992\n"
     ]
    }
   ],
   "source": [
    "for i in range(4):\n",
    "    print(\"--------------------------------\\nWeight: \" + str(weight))\n",
    "    pred = input_data * weight\n",
    "    error = (pred - goal_pred) ** 2\n",
    "    delta = pred - goal_pred\n",
    "    weight_delta = delta * input_data\n",
    "    weight -= weight_delta\n",
    "    print(\"Error: \" + str(error) + \", Prediction: \" + str(pred))\n",
    "    print(\"Delta: \" + str(delta) + \", Weight Delta: \" + str(weight_delta))"
   ]
  },
  {
   "cell_type": "code",
   "execution_count": 1,
   "metadata": {},
   "outputs": [],
   "source": [
    "import matplotlib.pyplot as plt\n",
    "import numpy as np"
   ]
  },
  {
   "cell_type": "code",
   "execution_count": 2,
   "metadata": {},
   "outputs": [],
   "source": [
    "weight, goal_pred, input_data = 0.0, 0.8, 1.1"
   ]
  },
  {
   "cell_type": "code",
   "execution_count": 3,
   "metadata": {},
   "outputs": [
    {
     "name": "stdout",
     "output_type": "stream",
     "text": [
      "--------------------------------\n",
      "Weight: 0.0\n",
      "Error: 0.6400000000000001, Prediction: 0.0\n",
      "Delta: -0.8, Weight Delta: -0.8800000000000001\n",
      "1\n",
      "--------------------------------\n",
      "Weight: 0.8800000000000001\n",
      "Error: 0.02822400000000005, Prediction: 0.9680000000000002\n",
      "Delta: 0.16800000000000015, Weight Delta: 0.1848000000000002\n",
      "2\n",
      "--------------------------------\n",
      "Weight: 0.6951999999999999\n",
      "Error: 0.0012446784000000064, Prediction: 0.76472\n",
      "Delta: -0.03528000000000009, Weight Delta: -0.0388080000000001\n",
      "3\n",
      "--------------------------------\n",
      "Weight: 0.734008\n",
      "Error: 5.4890317439999896e-05, Prediction: 0.8074088\n",
      "Delta: 0.007408799999999993, Weight Delta: 0.008149679999999992\n",
      "4\n",
      "--------------------------------\n",
      "Weight: 0.72585832\n",
      "Error: 2.4206629991042546e-06, Prediction: 0.798444152\n",
      "Delta: -0.0015558480000000818, Weight Delta: -0.0017114328000000902\n",
      "5\n",
      "--------------------------------\n",
      "Weight: 0.7275697528\n",
      "Error: 1.0675123826048965e-07, Prediction: 0.80032672808\n",
      "Delta: 0.00032672808000000497, Weight Delta: 0.0003594008880000055\n",
      "6\n",
      "--------------------------------\n",
      "Weight: 0.727210351912\n",
      "Error: 4.707729607278605e-09, Prediction: 0.7999313871032001\n",
      "Delta: -6.861289679993554e-05, Weight Delta: -7.54741864799291e-05\n",
      "7\n",
      "--------------------------------\n",
      "Weight: 0.7272858260984799\n",
      "Error: 2.0761087567900285e-10, Prediction: 0.800014408708328\n",
      "Delta: 1.440870832791763e-05, Weight Delta: 1.5849579160709395e-05\n"
     ]
    }
   ],
   "source": [
    "count = 0\n",
    "\n",
    "while (1):\n",
    "    print(\"--------------------------------\\nWeight: \" + str(weight))\n",
    "    pred = input_data * weight\n",
    "    error = (pred - goal_pred) ** 2\n",
    "    delta = pred - goal_pred\n",
    "    weight_delta = delta * input_data\n",
    "    weight -= weight_delta\n",
    "    \n",
    "    print(\"Error: \" + str(error) + \", Prediction: \" + str(pred))\n",
    "    print(\"Delta: \" + str(delta) + \", Weight Delta: \" + str(weight_delta))\n",
    "    \n",
    "    if error<0.000000001:\n",
    "        break\n",
    "    else:\n",
    "        count = count + 1\n",
    "        print(count)\n",
    "        "
   ]
  },
  {
   "cell_type": "markdown",
   "metadata": {},
   "source": [
    "## 4. 왜 이게 작동하죠? weight_delta는 뭔가요?"
   ]
  },
  {
   "cell_type": "markdown",
   "metadata": {},
   "source": [
    "`error = ((input_data * weight) - goal_pred) ** 2` \n",
    "\n",
    "### **여기서 수정할 수 있는 것은?**  \n",
    "\n",
    "* input_data & goal_pred -> **'고정'**\n",
    "* 2, ** -> **'오차측정법 파괴'**\n",
    "* weight -> **'수정 가능'**"
   ]
  },
  {
   "cell_type": "markdown",
   "metadata": {},
   "source": [
    ">## weight 수정 = 해당 함수가 **데이터 패턴에 순응**한다는 의미\n",
    ">## 즉, error 값이 0에 이를 때까지 오차 함수의 특정 부분(weight)을 수정하라!"
   ]
  },
  {
   "cell_type": "code",
   "execution_count": null,
   "metadata": {},
   "outputs": [],
   "source": [
    "\n"
   ]
  },
  {
   "cell_type": "markdown",
   "metadata": {},
   "source": [
    "## 5. 한 가지 개념에 집중하기\n",
    "* ### 개념: 학습은 오차가 0이 되도록 가중치를 조정하는 과정"
   ]
  },
  {
   "cell_type": "markdown",
   "metadata": {},
   "source": [
    "\n"
   ]
  }
 ],
 "metadata": {
  "kernelspec": {
   "display_name": "Python 3",
   "language": "python",
   "name": "python3"
  },
  "language_info": {
   "codemirror_mode": {
    "name": "ipython",
    "version": 3
   },
   "file_extension": ".py",
   "mimetype": "text/x-python",
   "name": "python",
   "nbconvert_exporter": "python",
   "pygments_lexer": "ipython3",
   "version": "3.7.3"
  }
 },
 "nbformat": 4,
 "nbformat_minor": 2
}
