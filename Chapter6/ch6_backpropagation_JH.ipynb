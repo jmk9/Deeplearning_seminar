{
  "nbformat": 4,
  "nbformat_minor": 0,
  "metadata": {
    "colab": {
      "name": "ch6_backpropagation_JH.ipynb",
      "provenance": []
    },
    "kernelspec": {
      "name": "python3",
      "display_name": "Python 3"
    }
  },
  "cells": [
    {
      "cell_type": "markdown",
      "metadata": {
        "id": "mTGBg6FnYRMO",
        "colab_type": "text"
      },
      "source": [
        "## **Our First \"Deep\" Neural Network**"
      ]
    },
    {
      "cell_type": "code",
      "metadata": {
        "id": "pM1EP6S5YJQ8",
        "colab_type": "code",
        "colab": {}
      },
      "source": [
        "import numpy as np\n",
        "\n",
        "np.random.seed(1)\n",
        "\n",
        "def relu(x):\n",
        "    return (x > 0) * x      #모든 음수를 0으로 설정\n",
        "\n",
        "alpha = 0.2\n",
        "hidden_size = 4\n",
        "\n",
        "streetlights = np.array( [[ 1, 0, 1 ],                     #input data\n",
        "                          [ 0, 1, 1 ],\n",
        "                          [ 0, 0, 1 ],\n",
        "                          [ 1, 1, 1 ] ] )\n",
        "\n",
        "walk_vs_stop = np.array([[ 1, 1, 0, 0]]).T\n",
        "\n",
        "weights_0_1 = 2*np.random.random((3,hidden_size)) - 1       #방금 무작위로 초기화된 가중치 집합 2개가 3개 계층에 연결됨.\n",
        "weights_1_2 = 2*np.random.random((hidden_size,1)) - 1\n",
        "\n",
        "layer_0 = streetlights[0]                                   #input\n",
        "layer_1 = relu(np.dot(layer_0,weights_0_1))                 #input값을 dot 함수를 통해 layer_0과 layer_1 사이의 가중치를 받게됨. --> 가중합 수행\n",
        "                                                            #layer_1의 가중합이 수행된 출력은 음수를 0으로 바꾸는 relu를 거쳐 내보내 짐.\n",
        "layer_2 = np.dot(layer_1,weights_1_2)                       #이 출력은 다음 계층인 layer_2의 입력이 됨. --> 가중합 수행 --> 최종 노드에 result 값이 입력됨."
      ],
      "execution_count": 0,
      "outputs": []
    },
    {
      "cell_type": "markdown",
      "metadata": {
        "id": "tEiAjzQaYYF9",
        "colab_type": "text"
      },
      "source": [
        "## **Backpropagation in Code**\n",
        "\n",
        "**최종 오차에 각 가중치가 기여하는 양을 학습할 수 있음.**\n",
        "\n",
        "오차 귀착 (error attribution)\n",
        ": 각 가중치가 최종 오차에 얼마나 기여했는지 알아내는 것"
      ]
    },
    {
      "cell_type": "code",
      "metadata": {
        "id": "ordoO_5wYXt7",
        "colab_type": "code",
        "colab": {
          "base_uri": "https://localhost:8080/",
          "height": 116
        },
        "outputId": "5d8a3c82-e613-4fbd-c3bb-3e2825802b6b"
      },
      "source": [
        "import numpy as np\n",
        "\n",
        "np.random.seed(1)\n",
        "\n",
        "def relu(x):\n",
        "    return (x > 0) * x       # x > 0 이면 x를 반환하고, 그렇지 않으면 0을 반환함\n",
        "\n",
        "def relu2deriv(output):\n",
        "    return output>0          # output > 0 이면 1을 반환하고, 그렇지 않으면 0을 반환함\n",
        "                             # relu 함수의 미분계수를 반환함. (x를 미분할 경우 1, 0을 미분할 경우 0)\n",
        "\n",
        "alpha = 0.2\n",
        "hidden_size = 4\n",
        "\n",
        "weights_0_1 = 2*np.random.random((3,hidden_size)) - 1\n",
        "weights_1_2 = 2*np.random.random((hidden_size,1)) - 1\n",
        "\n",
        "for iteration in range(60):\n",
        "   layer_2_error = 0\n",
        "   for i in range(len(streetlights)):\n",
        "      layer_0 = streetlights[i:i+1]\n",
        "      layer_1 = relu(np.dot(layer_0,weights_0_1))      #중간 노드(=중간 예측(intermediate predictions))\n",
        "      layer_2 = np.dot(layer_1,weights_1_2)\n",
        "\n",
        "      layer_2_error += np.sum((layer_2 - walk_vs_stop[i:i+1]) ** 2)\n",
        "\n",
        "      # 출력된 예측이 얼마나 높아지고 낮아져야 하는지 알려주는 delta 변수 계산 (error attribution)\n",
        "      layer_2_delta = (walk_vs_stop[i:i+1] - layer_2)                    #prediction - true\n",
        "      layer_1_delta=layer_2_delta.dot(weights_1_2.T)*relu2deriv(layer_1) \n",
        "      \n",
        "      # 외적\n",
        "      weights_1_2 += alpha * layer_1.T.dot(layer_2_delta)\n",
        "      weights_0_1 += alpha * layer_0.T.dot(layer_1_delta)\n",
        "\n",
        "   if(iteration % 10 == 9):\n",
        "      print(\"Error:\" + str(layer_2_error))"
      ],
      "execution_count": 6,
      "outputs": [
        {
          "output_type": "stream",
          "text": [
            "Error:0.6342311598444467\n",
            "Error:0.35838407676317513\n",
            "Error:0.0830183113303298\n",
            "Error:0.006467054957103705\n",
            "Error:0.0003292669000750734\n",
            "Error:1.5055622665134859e-05\n"
          ],
          "name": "stdout"
        }
      ]
    },
    {
      "cell_type": "markdown",
      "metadata": {
        "id": "y8KddRiXYgWF",
        "colab_type": "text"
      },
      "source": [
        "## **One Iteration of Backpropagation**"
      ]
    },
    {
      "cell_type": "code",
      "metadata": {
        "id": "alMdU1tmYQQ_",
        "colab_type": "code",
        "colab": {}
      },
      "source": [
        "import numpy as np\n",
        "\n",
        "np.random.seed(1)\n",
        "\n",
        "def relu(x):\n",
        "    return (x > 0) * x \n",
        "\n",
        "def relu2deriv(output):\n",
        "    return output>0 \n",
        "\n",
        "lights = np.array( [[ 1, 0, 1 ],\n",
        "                    [ 0, 1, 1 ],\n",
        "                    [ 0, 0, 1 ],\n",
        "                    [ 1, 1, 1 ] ] )\n",
        "\n",
        "walk_stop = np.array([[ 1, 1, 0, 0]]).T\n",
        "\n",
        "alpha = 0.2\n",
        "hidden_size = 3\n",
        "\n",
        "weights_0_1 = 2*np.random.random((3,hidden_size)) - 1\n",
        "weights_1_2 = 2*np.random.random((hidden_size,1)) - 1\n",
        "\n",
        "layer_0 = lights[0:1]\n",
        "layer_1 = np.dot(layer_0,weights_0_1)\n",
        "layer_1 = relu(layer_1)\n",
        "layer_2 = np.dot(layer_1,weights_1_2)\n",
        "\n",
        "error = (layer_2-walk_stop[0:1])**2\n",
        "\n",
        "layer_2_delta=(layer_2-walk_stop[0:1])\n",
        "\n",
        "layer_1_delta=layer_2_delta.dot(weights_1_2.T)\n",
        "layer_1_delta *= relu2deriv(layer_1)\n",
        "\n",
        "weight_delta_1_2 = layer_1.T.dot(layer_2_delta)\n",
        "weight_delta_0_1 = layer_0.T.dot(layer_1_delta)\n",
        "\n",
        "weights_1_2 -= alpha * weight_delta_1_2\n",
        "weights_0_1 -= alpha * weight_delta_0_1"
      ],
      "execution_count": 0,
      "outputs": []
    },
    {
      "cell_type": "markdown",
      "metadata": {
        "id": "rYXKCkvAYmIX",
        "colab_type": "text"
      },
      "source": [
        "## **Putting it all Together**"
      ]
    },
    {
      "cell_type": "code",
      "metadata": {
        "id": "XQ8fU3RcYjYe",
        "colab_type": "code",
        "colab": {
          "base_uri": "https://localhost:8080/",
          "height": 116
        },
        "outputId": "8d29fbb5-6671-41d6-df72-d3e59d720991"
      },
      "source": [
        "import numpy as np\n",
        "\n",
        "np.random.seed(1)\n",
        "\n",
        "def relu(x):\n",
        "    return (x > 0) * x     # x > 0 이면 x를 반환하고, 그렇지 않으면 0을 반환함\n",
        "                       \n",
        "\n",
        "def relu2deriv(output):\n",
        "    return output>0        # output > 0 이면 1을 반환하고, 그렇지 않으면 0을 반환함\n",
        "                   \n",
        "\n",
        "streetlights = np.array( [[ 1, 0, 1 ],\n",
        "                          [ 0, 1, 1 ],\n",
        "                          [ 0, 0, 1 ],\n",
        "                          [ 1, 1, 1 ] ] )\n",
        "\n",
        "walk_vs_stop = np.array([[ 1, 1, 0, 0]]).T\n",
        "    \n",
        "alpha = 0.2\n",
        "hidden_size = 4\n",
        "\n",
        "weights_0_1 = 2*np.random.random((3,hidden_size)) - 1\n",
        "weights_1_2 = 2*np.random.random((hidden_size,1)) - 1\n",
        "\n",
        "for iteration in range(60):\n",
        "   layer_2_error = 0\n",
        "   for i in range(len(streetlights)):\n",
        "      layer_0 = streetlights[i:i+1]\n",
        "      layer_1 = relu(np.dot(layer_0,weights_0_1))\n",
        "      layer_2 = np.dot(layer_1,weights_1_2)\n",
        "\n",
        "      layer_2_error += np.sum((layer_2 - walk_vs_stop[i:i+1]) ** 2)\n",
        "\n",
        "      layer_2_delta = (layer_2 - walk_vs_stop[i:i+1])\n",
        "      layer_1_delta=layer_2_delta.dot(weights_1_2.T)*relu2deriv(layer_1)\n",
        "\n",
        "      weights_1_2 -= alpha * layer_1.T.dot(layer_2_delta)\n",
        "      weights_0_1 -= alpha * layer_0.T.dot(layer_1_delta)\n",
        "\n",
        "   if(iteration % 10 == 9):\n",
        "      print(\"Error:\" + str(layer_2_error))"
      ],
      "execution_count": 8,
      "outputs": [
        {
          "output_type": "stream",
          "text": [
            "Error:0.6342311598444467\n",
            "Error:0.35838407676317513\n",
            "Error:0.0830183113303298\n",
            "Error:0.006467054957103705\n",
            "Error:0.0003292669000750734\n",
            "Error:1.5055622665134859e-05\n"
          ],
          "name": "stdout"
        }
      ]
    },
    {
      "cell_type": "code",
      "metadata": {
        "id": "-OkArK0KYpAW",
        "colab_type": "code",
        "colab": {
          "base_uri": "https://localhost:8080/",
          "height": 116
        },
        "outputId": "d95cd31a-c729-4309-9421-565bc83a6737"
      },
      "source": [
        "!git clone https://github.com/jmk9/Deeplearning_seminar.git"
      ],
      "execution_count": 10,
      "outputs": [
        {
          "output_type": "stream",
          "text": [
            "Cloning into 'Deeplearning_seminar'...\n",
            "remote: Enumerating objects: 66, done.\u001b[K\n",
            "remote: Counting objects:   1% (1/66)\u001b[K\rremote: Counting objects:   3% (2/66)\u001b[K\rremote: Counting objects:   4% (3/66)\u001b[K\rremote: Counting objects:   6% (4/66)\u001b[K\rremote: Counting objects:   7% (5/66)\u001b[K\rremote: Counting objects:   9% (6/66)\u001b[K\rremote: Counting objects:  10% (7/66)\u001b[K\rremote: Counting objects:  12% (8/66)\u001b[K\rremote: Counting objects:  13% (9/66)\u001b[K\rremote: Counting objects:  15% (10/66)\u001b[K\rremote: Counting objects:  16% (11/66)\u001b[K\rremote: Counting objects:  18% (12/66)\u001b[K\rremote: Counting objects:  19% (13/66)\u001b[K\rremote: Counting objects:  21% (14/66)\u001b[K\rremote: Counting objects:  22% (15/66)\u001b[K\rremote: Counting objects:  24% (16/66)\u001b[K\rremote: Counting objects:  25% (17/66)\u001b[K\rremote: Counting objects:  27% (18/66)\u001b[K\rremote: Counting objects:  28% (19/66)\u001b[K\rremote: Counting objects:  30% (20/66)\u001b[K\rremote: Counting objects:  31% (21/66)\u001b[K\rremote: Counting objects:  33% (22/66)\u001b[K\rremote: Counting objects:  34% (23/66)\u001b[K\rremote: Counting objects:  36% (24/66)\u001b[K\rremote: Counting objects:  37% (25/66)\u001b[K\rremote: Counting objects:  39% (26/66)\u001b[K\rremote: Counting objects:  40% (27/66)\u001b[K\rremote: Counting objects:  42% (28/66)\u001b[K\rremote: Counting objects:  43% (29/66)\u001b[K\rremote: Counting objects:  45% (30/66)\u001b[K\rremote: Counting objects:  46% (31/66)\u001b[K\rremote: Counting objects:  48% (32/66)\u001b[K\rremote: Counting objects:  50% (33/66)\u001b[K\rremote: Counting objects:  51% (34/66)\u001b[K\rremote: Counting objects:  53% (35/66)\u001b[K\rremote: Counting objects:  54% (36/66)\u001b[K\rremote: Counting objects:  56% (37/66)\u001b[K\rremote: Counting objects:  57% (38/66)\u001b[K\rremote: Counting objects:  59% (39/66)\u001b[K\rremote: Counting objects:  60% (40/66)\u001b[K\rremote: Counting objects:  62% (41/66)\u001b[K\rremote: Counting objects:  63% (42/66)\u001b[K\rremote: Counting objects:  65% (43/66)\u001b[K\rremote: Counting objects:  66% (44/66)\u001b[K\rremote: Counting objects:  68% (45/66)\u001b[K\rremote: Counting objects:  69% (46/66)\u001b[K\rremote: Counting objects:  71% (47/66)\u001b[K\rremote: Counting objects:  72% (48/66)\u001b[K\rremote: Counting objects:  74% (49/66)\u001b[K\rremote: Counting objects:  75% (50/66)\u001b[K\rremote: Counting objects:  77% (51/66)\u001b[K\rremote: Counting objects:  78% (52/66)\u001b[K\rremote: Counting objects:  80% (53/66)\u001b[K\rremote: Counting objects:  81% (54/66)\u001b[K\rremote: Counting objects:  83% (55/66)\u001b[K\rremote: Counting objects:  84% (56/66)\u001b[K\rremote: Counting objects:  86% (57/66)\u001b[K\rremote: Counting objects:  87% (58/66)\u001b[K\rremote: Counting objects:  89% (59/66)\u001b[K\rremote: Counting objects:  90% (60/66)\u001b[K\rremote: Counting objects:  92% (61/66)\u001b[K\rremote: Counting objects:  93% (62/66)\u001b[K\rremote: Counting objects:  95% (63/66)\u001b[K\rremote: Counting objects:  96% (64/66)\u001b[K\rremote: Counting objects:  98% (65/66)\u001b[K\rremote: Counting objects: 100% (66/66)\u001b[K\rremote: Counting objects: 100% (66/66), done.\u001b[K\n",
            "remote: Compressing objects:   1% (1/56)\u001b[K\rremote: Compressing objects:   3% (2/56)\u001b[K\rremote: Compressing objects:   5% (3/56)\u001b[K\rremote: Compressing objects:   7% (4/56)\u001b[K\rremote: Compressing objects:   8% (5/56)\u001b[K\rremote: Compressing objects:  10% (6/56)\u001b[K\rremote: Compressing objects:  12% (7/56)\u001b[K\rremote: Compressing objects:  14% (8/56)\u001b[K\rremote: Compressing objects:  16% (9/56)\u001b[K\rremote: Compressing objects:  17% (10/56)\u001b[K\rremote: Compressing objects:  19% (11/56)\u001b[K\rremote: Compressing objects:  21% (12/56)\u001b[K\rremote: Compressing objects:  23% (13/56)\u001b[K\rremote: Compressing objects:  25% (14/56)\u001b[K\rremote: Compressing objects:  26% (15/56)\u001b[K\rremote: Compressing objects:  28% (16/56)\u001b[K\rremote: Compressing objects:  30% (17/56)\u001b[K\rremote: Compressing objects:  32% (18/56)\u001b[K\rremote: Compressing objects:  33% (19/56)\u001b[K\rremote: Compressing objects:  35% (20/56)\u001b[K\rremote: Compressing objects:  37% (21/56)\u001b[K\rremote: Compressing objects:  39% (22/56)\u001b[K\rremote: Compressing objects:  41% (23/56)\u001b[K\rremote: Compressing objects:  42% (24/56)\u001b[K\rremote: Compressing objects:  44% (25/56)\u001b[K\rremote: Compressing objects:  46% (26/56)\u001b[K\rremote: Compressing objects:  48% (27/56)\u001b[K\rremote: Compressing objects:  50% (28/56)\u001b[K\rremote: Compressing objects:  51% (29/56)\u001b[K\rremote: Compressing objects:  53% (30/56)\u001b[K\rremote: Compressing objects:  55% (31/56)\u001b[K\rremote: Compressing objects:  57% (32/56)\u001b[K\rremote: Compressing objects:  58% (33/56)\u001b[K\rremote: Compressing objects:  60% (34/56)\u001b[K\rremote: Compressing objects:  62% (35/56)\u001b[K\rremote: Compressing objects:  64% (36/56)\u001b[K\rremote: Compressing objects:  66% (37/56)\u001b[K\rremote: Compressing objects:  67% (38/56)\u001b[K\rremote: Compressing objects:  69% (39/56)\u001b[K\rremote: Compressing objects:  71% (40/56)\u001b[K\rremote: Compressing objects:  73% (41/56)\u001b[K\rremote: Compressing objects:  75% (42/56)\u001b[K\rremote: Compressing objects:  76% (43/56)\u001b[K\rremote: Compressing objects:  78% (44/56)\u001b[K\rremote: Compressing objects:  80% (45/56)\u001b[K\rremote: Compressing objects:  82% (46/56)\u001b[K\rremote: Compressing objects:  83% (47/56)\u001b[K\rremote: Compressing objects:  85% (48/56)\u001b[K\rremote: Compressing objects:  87% (49/56)\u001b[K\rremote: Compressing objects:  89% (50/56)\u001b[K\rremote: Compressing objects:  91% (51/56)\u001b[K\rremote: Compressing objects:  92% (52/56)\u001b[K\rremote: Compressing objects:  94% (53/56)\u001b[K\rremote: Compressing objects:  96% (54/56)\u001b[K\rremote: Compressing objects:  98% (55/56)\u001b[K\rremote: Compressing objects: 100% (56/56)\u001b[K\rremote: Compressing objects: 100% (56/56), done.\u001b[K\n",
            "Unpacking objects:   1% (1/66)   \rUnpacking objects:   3% (2/66)   \rUnpacking objects:   4% (3/66)   \rUnpacking objects:   6% (4/66)   \rUnpacking objects:   7% (5/66)   \rUnpacking objects:   9% (6/66)   \rUnpacking objects:  10% (7/66)   \rUnpacking objects:  12% (8/66)   \rUnpacking objects:  13% (9/66)   \rUnpacking objects:  15% (10/66)   \rUnpacking objects:  16% (11/66)   \rUnpacking objects:  18% (12/66)   \rUnpacking objects:  19% (13/66)   \rUnpacking objects:  21% (14/66)   \rUnpacking objects:  22% (15/66)   \rUnpacking objects:  24% (16/66)   \rUnpacking objects:  25% (17/66)   \rUnpacking objects:  27% (18/66)   \rUnpacking objects:  28% (19/66)   \rUnpacking objects:  30% (20/66)   \rUnpacking objects:  31% (21/66)   \rUnpacking objects:  33% (22/66)   \rUnpacking objects:  34% (23/66)   \rUnpacking objects:  36% (24/66)   \rUnpacking objects:  37% (25/66)   \rremote: Total 66 (delta 19), reused 21 (delta 4), pack-reused 0\u001b[K\n",
            "Unpacking objects:  39% (26/66)   \rUnpacking objects:  40% (27/66)   \rUnpacking objects:  42% (28/66)   \rUnpacking objects:  43% (29/66)   \rUnpacking objects:  45% (30/66)   \rUnpacking objects:  46% (31/66)   \rUnpacking objects:  48% (32/66)   \rUnpacking objects:  50% (33/66)   \rUnpacking objects:  51% (34/66)   \rUnpacking objects:  53% (35/66)   \rUnpacking objects:  54% (36/66)   \rUnpacking objects:  56% (37/66)   \rUnpacking objects:  57% (38/66)   \rUnpacking objects:  59% (39/66)   \rUnpacking objects:  60% (40/66)   \rUnpacking objects:  62% (41/66)   \rUnpacking objects:  63% (42/66)   \rUnpacking objects:  65% (43/66)   \rUnpacking objects:  66% (44/66)   \rUnpacking objects:  68% (45/66)   \rUnpacking objects:  69% (46/66)   \rUnpacking objects:  71% (47/66)   \rUnpacking objects:  72% (48/66)   \rUnpacking objects:  74% (49/66)   \rUnpacking objects:  75% (50/66)   \rUnpacking objects:  77% (51/66)   \rUnpacking objects:  78% (52/66)   \rUnpacking objects:  80% (53/66)   \rUnpacking objects:  81% (54/66)   \rUnpacking objects:  83% (55/66)   \rUnpacking objects:  84% (56/66)   \rUnpacking objects:  86% (57/66)   \rUnpacking objects:  87% (58/66)   \rUnpacking objects:  89% (59/66)   \rUnpacking objects:  90% (60/66)   \rUnpacking objects:  92% (61/66)   \rUnpacking objects:  93% (62/66)   \rUnpacking objects:  95% (63/66)   \rUnpacking objects:  96% (64/66)   \rUnpacking objects:  98% (65/66)   \rUnpacking objects: 100% (66/66)   \rUnpacking objects: 100% (66/66), done.\n"
          ],
          "name": "stdout"
        }
      ]
    },
    {
      "cell_type": "code",
      "metadata": {
        "id": "SeG91OhVuhi3",
        "colab_type": "code",
        "colab": {}
      },
      "source": [
        ""
      ],
      "execution_count": 0,
      "outputs": []
    }
  ]
}