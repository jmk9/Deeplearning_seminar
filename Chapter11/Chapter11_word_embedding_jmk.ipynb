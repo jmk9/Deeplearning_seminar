{
 "cells": [
  {
   "cell_type": "markdown",
   "metadata": {},
   "source": [
    "# 단어 임베딩"
   ]
  },
  {
   "cell_type": "code",
   "execution_count": 88,
   "metadata": {},
   "outputs": [],
   "source": [
    "word2index={'apple':0, 'ant':1, 'bee':2, 'boat':3, 'coat':4}"
   ]
  },
  {
   "cell_type": "code",
   "execution_count": 89,
   "metadata": {},
   "outputs": [],
   "source": [
    "target='ant'"
   ]
  },
  {
   "cell_type": "code",
   "execution_count": 90,
   "metadata": {},
   "outputs": [],
   "source": [
    "from collections import Counter\n",
    "import math"
   ]
  },
  {
   "cell_type": "code",
   "execution_count": 95,
   "metadata": {},
   "outputs": [],
   "source": [
    "target_index = word2index['ant']\n",
    "scores = Counter()"
   ]
  },
  {
   "cell_type": "code",
   "execution_count": 92,
   "metadata": {},
   "outputs": [],
   "source": [
    "import numpy as np"
   ]
  },
  {
   "cell_type": "code",
   "execution_count": 93,
   "metadata": {},
   "outputs": [
    {
     "data": {
      "text/plain": [
       "array([[0.20190222, 0.06795419, 0.48916547, 0.81759118],\n",
       "       [0.99995407, 0.5689621 , 0.19120696, 0.89552894],\n",
       "       [0.16982509, 0.77327364, 0.20678282, 0.81214786],\n",
       "       [0.59222641, 0.39227607, 0.81182571, 0.8347283 ],\n",
       "       [0.20574101, 0.40657882, 0.52024495, 0.77814558]])"
      ]
     },
     "execution_count": 93,
     "metadata": {},
     "output_type": "execute_result"
    }
   ],
   "source": [
    "weights = np.random.random((len(word2index), 4))\n",
    "weights"
   ]
  },
  {
   "cell_type": "code",
   "execution_count": 100,
   "metadata": {},
   "outputs": [
    {
     "name": "stdout",
     "output_type": "stream",
     "text": [
      "[0.20190222 0.06795419 0.48916547 0.81759118] [0.99995407 0.5689621  0.19120696 0.89552894]\n",
      "--------------------\n",
      "raw_difference: [-0.79805185 -0.50100791  0.29795851 -0.07793776]\n",
      "--------------------\n",
      "squared_difference: [0.63688675 0.25100893 0.08877927 0.00607429]\n",
      "--------------------\n",
      "scores: Counter({'ant': -0.0, 'boat': -0.7657180621863027, 'bee': -0.8590997188427038, 'coat': -0.8827160171571931, 'apple': -0.9913370994397364})\n",
      "\n",
      "<next>\n",
      "[0.99995407 0.5689621  0.19120696 0.89552894] [0.99995407 0.5689621  0.19120696 0.89552894]\n",
      "--------------------\n",
      "raw_difference: [0. 0. 0. 0.]\n",
      "--------------------\n",
      "squared_difference: [0. 0. 0. 0.]\n",
      "--------------------\n",
      "scores: Counter({'ant': -0.0, 'boat': -0.7657180621863027, 'bee': -0.8590997188427038, 'coat': -0.8827160171571931, 'apple': -0.9913370994397364})\n",
      "\n",
      "<next>\n",
      "[0.16982509 0.77327364 0.20678282 0.81214786] [0.99995407 0.5689621  0.19120696 0.89552894]\n",
      "--------------------\n",
      "raw_difference: [-0.83012897  0.20431153  0.01557586 -0.08338108]\n",
      "--------------------\n",
      "squared_difference: [6.89114114e-01 4.17432015e-02 2.42607382e-04 6.95240435e-03]\n",
      "--------------------\n",
      "scores: Counter({'ant': -0.0, 'boat': -0.7657180621863027, 'bee': -0.8590997188427038, 'coat': -0.8827160171571931, 'apple': -0.9913370994397364})\n",
      "\n",
      "<next>\n",
      "[0.59222641 0.39227607 0.81182571 0.8347283 ] [0.99995407 0.5689621  0.19120696 0.89552894]\n",
      "--------------------\n",
      "raw_difference: [-0.40772766 -0.17668604  0.62061875 -0.06080064]\n",
      "--------------------\n",
      "squared_difference: [0.16624184 0.03121795 0.38516763 0.00369672]\n",
      "--------------------\n",
      "scores: Counter({'ant': -0.0, 'boat': -0.7657180621863027, 'bee': -0.8590997188427038, 'coat': -0.8827160171571931, 'apple': -0.9913370994397364})\n",
      "\n",
      "<next>\n",
      "[0.20574101 0.40657882 0.52024495 0.77814558] [0.99995407 0.5689621  0.19120696 0.89552894]\n",
      "--------------------\n",
      "raw_difference: [-0.79421306 -0.16238328  0.329038   -0.11738336]\n",
      "--------------------\n",
      "squared_difference: [0.63077438 0.02636833 0.108266   0.01377885]\n",
      "--------------------\n",
      "scores: Counter({'ant': -0.0, 'boat': -0.7657180621863027, 'bee': -0.8590997188427038, 'coat': -0.8827160171571931, 'apple': -0.9913370994397364})\n",
      "\n"
     ]
    }
   ],
   "source": [
    "for word, index in word2index.items():\n",
    "    raw_difference = weights[index] - weights[target_index]\n",
    "    print(weights[index], weights[target_index])\n",
    "    print('-' * 20)\n",
    "    print('raw_difference:', raw_difference)\n",
    "    print('-' * 20)\n",
    "    \n",
    "    squared_difference = raw_difference * raw_difference\n",
    "    print('squared_difference:', squared_difference)\n",
    "    print('-' * 20)\n",
    "    \n",
    "    scores[word] = -math.sqrt(sum(squared_difference))\n",
    "    print('scores:', scores)\n",
    "    print()\n",
    "    \n",
    "    if index < len(word2index) - 1:\n",
    "        print('<next>')"
   ]
  },
  {
   "cell_type": "code",
   "execution_count": null,
   "metadata": {},
   "outputs": [],
   "source": []
  }
 ],
 "metadata": {
  "kernelspec": {
   "display_name": "Python 3",
   "language": "python",
   "name": "python3"
  },
  "language_info": {
   "codemirror_mode": {
    "name": "ipython",
    "version": 3
   },
   "file_extension": ".py",
   "mimetype": "text/x-python",
   "name": "python",
   "nbconvert_exporter": "python",
   "pygments_lexer": "ipython3",
   "version": "3.7.4"
  }
 },
 "nbformat": 4,
 "nbformat_minor": 2
}
